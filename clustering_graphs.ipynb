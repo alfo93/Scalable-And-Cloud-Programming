{
 "cells": [
  {
   "attachments": {},
   "cell_type": "markdown",
   "metadata": {},
   "source": [
    "# Clustering Results"
   ]
  },
  {
   "cell_type": "code",
   "execution_count": 1,
   "metadata": {},
   "outputs": [],
   "source": [
    "import pandas as pd\n",
    "import numpy as np\n",
    "import matplotlib.pyplot as plt\n",
    "import seaborn as sns"
   ]
  },
  {
   "cell_type": "code",
   "execution_count": 5,
   "metadata": {},
   "outputs": [],
   "source": [
    "def plot_graph(clustering: str, a_type: str, K_MIN = 5 , K_MAX = 20) -> None:\n",
    "    # Set up the figure and axis objects\n",
    "    fig, axs = plt.subplots(nrows=(K_MAX - K_MIN + 2) // 3, ncols=3, figsize=(15, 5*((K_MAX - K_MIN + 2) // 3)))\n",
    "    axs = axs.flatten()\n",
    "\n",
    "    # Iterate over each value of K and generate subplots in groups of three\n",
    "    for i, K in enumerate(range(K_MIN, K_MAX + 1)):\n",
    "        kmeans_data = pd.read_csv(\"./scp_project/src/resources/{a_type}/{alg}_{K}.csv\".format(a_type=a_type, alg=clustering, K=K), header=None)\n",
    "        kmeans_data.columns = [\"x\",\"y\",\"cluster_x\", \"cluster_y\"]\n",
    "\n",
    "        clusters_x = kmeans_data['cluster_x'].unique()\n",
    "        clusters_y = kmeans_data['cluster_y'].unique()\n",
    "\n",
    "        sns.set_style(\"whitegrid\")\n",
    "        sns.scatterplot(data=kmeans_data, x='x', y='y', hue='cluster_x', ax=axs[i], legend=False, size=0.5, linewidth=0.05, palette=sns.color_palette(\"hls\", len(clusters_x)))\n",
    "        sns.scatterplot(data=kmeans_data, x='cluster_x', y='cluster_y', ax=axs[i], legend=False, color='black', s=100)\n",
    "        axs[i].set_title('{alg} Clustering with K={K}'.format(alg=clustering, K=K), fontsize=16)\n",
    "        axs[i].set_xlabel('')\n",
    "        axs[i].set_ylabel('')\n",
    "\n",
    "    # Hide any empty subplots\n",
    "    for j in range(K_MAX - K_MIN + 1, len(axs)):\n",
    "        axs[j].axis('off')\n",
    "\n",
    "    plt.tight_layout()\n",
    "    plt.show()"
   ]
  },
  {
   "attachments": {},
   "cell_type": "markdown",
   "metadata": {},
   "source": [
    "# KMeans"
   ]
  },
  {
   "attachments": {},
   "cell_type": "markdown",
   "metadata": {},
   "source": [
    "## Sequential"
   ]
  },
  {
   "cell_type": "code",
   "execution_count": null,
   "metadata": {},
   "outputs": [],
   "source": [
    "plot_graph(\"kmeans\", \"sequential\")"
   ]
  },
  {
   "attachments": {},
   "cell_type": "markdown",
   "metadata": {},
   "source": [
    "## Parallel"
   ]
  },
  {
   "cell_type": "code",
   "execution_count": null,
   "metadata": {},
   "outputs": [],
   "source": [
    "plot_graph(\"kmeans\", \"parallel\")"
   ]
  },
  {
   "attachments": {},
   "cell_type": "markdown",
   "metadata": {},
   "source": [
    "# KCenter"
   ]
  },
  {
   "attachments": {},
   "cell_type": "markdown",
   "metadata": {},
   "source": [
    "## Sequential"
   ]
  },
  {
   "cell_type": "code",
   "execution_count": null,
   "metadata": {},
   "outputs": [],
   "source": [
    "plot_graph(\"kmeans\", \"sequential\")"
   ]
  },
  {
   "attachments": {},
   "cell_type": "markdown",
   "metadata": {},
   "source": [
    "## Parallel"
   ]
  },
  {
   "cell_type": "code",
   "execution_count": null,
   "metadata": {},
   "outputs": [],
   "source": [
    "plot_graph(\"kmeans\", \"parallel\")"
   ]
  }
 ],
 "metadata": {
  "kernelspec": {
   "display_name": "ml",
   "language": "python",
   "name": "python3"
  },
  "language_info": {
   "codemirror_mode": {
    "name": "ipython",
    "version": 3
   },
   "file_extension": ".py",
   "mimetype": "text/x-python",
   "name": "python",
   "nbconvert_exporter": "python",
   "pygments_lexer": "ipython3",
   "version": "3.11.3"
  },
  "orig_nbformat": 4
 },
 "nbformat": 4,
 "nbformat_minor": 2
}
